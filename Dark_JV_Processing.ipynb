{
 "cells": [
  {
   "cell_type": "code",
   "execution_count": 1,
   "metadata": {},
   "outputs": [
    {
     "data": {
      "text/plain": [
       "'Author: Sameer Vajjala Kesava\\n\\nCode for analyzing Dark Current-Voltage data of an organic solar cell\\nfor determining the Turn-on Voltage.\\n\\nShould be applicable for other types of diodes'"
      ]
     },
     "execution_count": 1,
     "metadata": {},
     "output_type": "execute_result"
    }
   ],
   "source": [
    "\"\"\"Author: Sameer Vajjala Kesava\n",
    "\n",
    "Code for analyzing Dark Current-Voltage data of an organic solar cell\n",
    "for determining the Turn-on Voltage.\n",
    "\n",
    "Should be applicable for other types of diodes\"\"\""
   ]
  },
  {
   "cell_type": "code",
   "execution_count": 2,
   "metadata": {},
   "outputs": [],
   "source": [
    "import matplotlib.pyplot as plt\n",
    "import numpy as np\n",
    "import pandas as pd\n",
    "\n",
    "%matplotlib inline"
   ]
  },
  {
   "cell_type": "code",
   "execution_count": 3,
   "metadata": {},
   "outputs": [
    {
     "data": {
      "text/plain": [
       "['Test.div1',\n",
       " '.ipynb_checkpoints',\n",
       " 'Dark_JV_Processing.ipynb',\n",
       " 'Test_div1_FB.png']"
      ]
     },
     "execution_count": 3,
     "metadata": {},
     "output_type": "execute_result"
    }
   ],
   "source": [
    "import os\n",
    "filenames = os.listdir(os.getcwd())\n",
    "filenames[0:5]"
   ]
  },
  {
   "cell_type": "code",
   "execution_count": 4,
   "metadata": {},
   "outputs": [],
   "source": [
    "filtered_files = list()\n",
    "for i in filenames:\n",
    "    if i[-4:-1] == 'div':\n",
    "        filtered_files.append(i)"
   ]
  },
  {
   "cell_type": "code",
   "execution_count": 5,
   "metadata": {},
   "outputs": [
    {
     "data": {
      "text/plain": [
       "['Test.div1']"
      ]
     },
     "execution_count": 5,
     "metadata": {},
     "output_type": "execute_result"
    }
   ],
   "source": [
    "filtered_files[:]"
   ]
  },
  {
   "cell_type": "code",
   "execution_count": 6,
   "metadata": {},
   "outputs": [
    {
     "data": {
      "text/plain": [
       "'Test'"
      ]
     },
     "execution_count": 6,
     "metadata": {},
     "output_type": "execute_result"
    }
   ],
   "source": [
    "filtered_files[0][:-5]"
   ]
  },
  {
   "cell_type": "code",
   "execution_count": 7,
   "metadata": {},
   "outputs": [],
   "source": [
    "sample_name = 'ITO_ZnPc_13nm_C60_35nm'"
   ]
  },
  {
   "cell_type": "code",
   "execution_count": 8,
   "metadata": {},
   "outputs": [],
   "source": [
    "file_name = filtered_files[0]"
   ]
  },
  {
   "cell_type": "code",
   "execution_count": null,
   "metadata": {},
   "outputs": [
    {
     "name": "stderr",
     "output_type": "stream",
     "text": [
      "/home/sameer/anaconda3/lib/python3.5/site-packages/ipykernel/__main__.py:2: ParserWarning: Falling back to the 'python' engine because the 'c' engine does not support skipfooter; you can avoid this warning by specifying engine='python'.\n",
      "  from ipykernel import kernelapp as app\n"
     ]
    }
   ],
   "source": [
    "import_data = pd.read_csv(file_name, sep = '\\t', skipfooter=11,\n",
    "                          names = ['V', 'J'])"
   ]
  },
  {
   "cell_type": "code",
   "execution_count": null,
   "metadata": {},
   "outputs": [],
   "source": [
    "file_name=file_name.replace('.', '_')"
   ]
  },
  {
   "cell_type": "code",
   "execution_count": null,
   "metadata": {},
   "outputs": [],
   "source": [
    "import_data['V'] = import_data['V']*-1"
   ]
  },
  {
   "cell_type": "code",
   "execution_count": null,
   "metadata": {},
   "outputs": [
    {
     "data": {
      "text/plain": [
       "-11.666076644464404"
      ]
     },
     "execution_count": 12,
     "metadata": {},
     "output_type": "execute_result"
    }
   ],
   "source": [
    "np.min(np.log(np.abs(import_data['J'])))"
   ]
  },
  {
   "cell_type": "code",
   "execution_count": null,
   "metadata": {},
   "outputs": [
    {
     "data": {
      "image/png": "[encoded data removed]",
      "text/plain": [
       "<Figure size 432x288 with 2 Axes>"
      ]
     },
     "metadata": {
      "needs_background": "light"
     },
     "output_type": "display_data"
    }
   ],
   "source": [
    "fig1, ax1 = plt.subplots()\n",
    "ax1b = ax1.twinx()\n",
    "\n",
    "ax1_range = [np.min(import_data['V']), np.max(import_data['V']), np.min(import_data['J']), np.max(import_data['J'])]\n",
    "ax1.axis(ax1_range)\n",
    "\n",
    "ax1b_range = [0, np.max(import_data['V']), \n",
    "              np.min(np.abs(import_data['J'])), np.max(np.abs(import_data['J']))]\n",
    "ax1b.axis(ax1b_range)\n",
    "\n",
    "ax1b.semilogy(import_data['V'],np.abs(import_data['J']), 'k-', lw=1)\n",
    "ax1.plot(import_data['V'],import_data['J'], 'b-', lw=1)\n",
    "\n",
    "plt.title(r'Dark JV')\n",
    "ax1.set_ylabel('Current Density (mA/cm$^2$)')\n",
    "ax1.set_xlabel('Bias (V)', color = 'r')\n",
    "\n",
    "plt.show()\n",
    "#ax1b.set_ylabel('Cell Width (cm)', color = 'b')"
   ]
  },
  {
   "cell_type": "code",
   "execution_count": null,
   "metadata": {},
   "outputs": [],
   "source": [
    "data2 = import_data.copy()\n",
    "data2['dJ_dV'] =  np.gradient(data2['J'], data2['V'])"
   ]
  },
  {
   "cell_type": "code",
   "execution_count": null,
   "metadata": {},
   "outputs": [
    {
     "data": {
      "text/html": [
       "<div>\n",
       "<style scoped>\n",
       "    .dataframe tbody tr th:only-of-type {\n",
       "        vertical-align: middle;\n",
       "    }\n",
       "\n",
       "    .dataframe tbody tr th {\n",
       "        vertical-align: top;\n",
       "    }\n",
       "\n",
       "    .dataframe thead th {\n",
       "        text-align: right;\n",
       "    }\n",
       "</style>\n",
       "<table border=\"1\" class=\"dataframe\">\n",
       "  <thead>\n",
       "    <tr style=\"text-align: right;\">\n",
       "      <th></th>\n",
       "      <th>V</th>\n",
       "      <th>J</th>\n",
       "      <th>dJ_dV</th>\n",
       "    </tr>\n",
       "  </thead>\n",
       "  <tbody>\n",
       "    <tr>\n",
       "      <th>0</th>\n",
       "      <td>-1.00</td>\n",
       "      <td>-0.025169</td>\n",
       "      <td>0.029964</td>\n",
       "    </tr>\n",
       "    <tr>\n",
       "      <th>1</th>\n",
       "      <td>-0.98</td>\n",
       "      <td>-0.024570</td>\n",
       "      <td>0.029612</td>\n",
       "    </tr>\n",
       "    <tr>\n",
       "      <th>2</th>\n",
       "      <td>-0.96</td>\n",
       "      <td>-0.023985</td>\n",
       "      <td>0.029249</td>\n",
       "    </tr>\n",
       "    <tr>\n",
       "      <th>3</th>\n",
       "      <td>-0.94</td>\n",
       "      <td>-0.023400</td>\n",
       "      <td>0.028964</td>\n",
       "    </tr>\n",
       "    <tr>\n",
       "      <th>4</th>\n",
       "      <td>-0.92</td>\n",
       "      <td>-0.022826</td>\n",
       "      <td>0.028499</td>\n",
       "    </tr>\n",
       "  </tbody>\n",
       "</table>\n",
       "</div>"
      ],
      "text/plain": [
       "      V         J     dJ_dV\n",
       "0 -1.00 -0.025169  0.029964\n",
       "1 -0.98 -0.024570  0.029612\n",
       "2 -0.96 -0.023985  0.029249\n",
       "3 -0.94 -0.023400  0.028964\n",
       "4 -0.92 -0.022826  0.028499"
      ]
     },
     "execution_count": 15,
     "metadata": {},
     "output_type": "execute_result"
    }
   ],
   "source": [
    "data2.head()"
   ]
  },
  {
   "cell_type": "code",
   "execution_count": null,
   "metadata": {},
   "outputs": [
    {
     "data": {
      "image/png": "[encoded data removed]",
      "text/plain": [
       "<Figure size 432x288 with 2 Axes>"
      ]
     },
     "metadata": {
      "needs_background": "light"
     },
     "output_type": "display_data"
    }
   ],
   "source": [
    "fig2, ax2 = plt.subplots()\n",
    "ax2b = ax2.twinx()\n",
    "#ax1b.plot(num_cells[:,0], num_cells[:,2], 'r-', lw=1,\\\n",
    "         #label = r'Sheet R = %d $\\Omega$' %(Rsheet))\n",
    "#ax1.legend(loc ='upper right', prop={'size':8})\n",
    "axes_range = [0, np.max(import_data['V']), np.min(import_data['J']), np.max(import_data['J'])]\n",
    "ax2.axis(axes_range)\n",
    "ax2.plot(data2['V'], data2['J'], 'b-', lw=1)\n",
    "ax2b.semilogy(data2['V'], data2['dJ_dV'], 'r-', lw=1)\n",
    "plt.title(r'Dark JV')\n",
    "ax2.set_ylabel('Current Density (mA/cm$^2$)')\n",
    "ax2b.set_ylabel('Current Density gradient(mA/V-cm$^2$)')\n",
    "ax2.set_xlabel('Bias (V)', color = 'r')\n",
    "plt.show()"
   ]
  },
  {
   "cell_type": "code",
   "execution_count": null,
   "metadata": {},
   "outputs": [
    {
     "data": {
      "text/html": [
       "<div>\n",
       "<style scoped>\n",
       "    .dataframe tbody tr th:only-of-type {\n",
       "        vertical-align: middle;\n",
       "    }\n",
       "\n",
       "    .dataframe tbody tr th {\n",
       "        vertical-align: top;\n",
       "    }\n",
       "\n",
       "    .dataframe thead th {\n",
       "        text-align: right;\n",
       "    }\n",
       "</style>\n",
       "<table border=\"1\" class=\"dataframe\">\n",
       "  <thead>\n",
       "    <tr style=\"text-align: right;\">\n",
       "      <th></th>\n",
       "      <th>V</th>\n",
       "      <th>J</th>\n",
       "      <th>dJ_dV</th>\n",
       "      <th>d2J_dV2</th>\n",
       "    </tr>\n",
       "  </thead>\n",
       "  <tbody>\n",
       "    <tr>\n",
       "      <th>0</th>\n",
       "      <td>-1.00</td>\n",
       "      <td>-0.025169</td>\n",
       "      <td>0.029964</td>\n",
       "      <td>-0.017596</td>\n",
       "    </tr>\n",
       "    <tr>\n",
       "      <th>1</th>\n",
       "      <td>-0.98</td>\n",
       "      <td>-0.024570</td>\n",
       "      <td>0.029612</td>\n",
       "      <td>-0.017872</td>\n",
       "    </tr>\n",
       "    <tr>\n",
       "      <th>2</th>\n",
       "      <td>-0.96</td>\n",
       "      <td>-0.023985</td>\n",
       "      <td>0.029249</td>\n",
       "      <td>-0.016200</td>\n",
       "    </tr>\n",
       "    <tr>\n",
       "      <th>3</th>\n",
       "      <td>-0.94</td>\n",
       "      <td>-0.023400</td>\n",
       "      <td>0.028964</td>\n",
       "      <td>-0.018736</td>\n",
       "    </tr>\n",
       "    <tr>\n",
       "      <th>4</th>\n",
       "      <td>-0.92</td>\n",
       "      <td>-0.022826</td>\n",
       "      <td>0.028499</td>\n",
       "      <td>-0.025303</td>\n",
       "    </tr>\n",
       "  </tbody>\n",
       "</table>\n",
       "</div>"
      ],
      "text/plain": [
       "      V         J     dJ_dV   d2J_dV2\n",
       "0 -1.00 -0.025169  0.029964 -0.017596\n",
       "1 -0.98 -0.024570  0.029612 -0.017872\n",
       "2 -0.96 -0.023985  0.029249 -0.016200\n",
       "3 -0.94 -0.023400  0.028964 -0.018736\n",
       "4 -0.92 -0.022826  0.028499 -0.025303"
      ]
     },
     "execution_count": 17,
     "metadata": {},
     "output_type": "execute_result"
    }
   ],
   "source": [
    "data2['d2J_dV2'] =  np.gradient(data2['dJ_dV'], data2['V'])\n",
    "data2.head()"
   ]
  },
  {
   "cell_type": "code",
   "execution_count": null,
   "metadata": {},
   "outputs": [],
   "source": [
    "fig3, ax3 = plt.subplots()\n",
    "ax3b = ax3.twinx()\n",
    "#ax1b.plot(num_cells[:,0], num_cells[:,2], 'r-', lw=1,\\\n",
    "         #label = r'Sheet R = %d $\\Omega$' %(Rsheet))\n",
    "#ax1.legend(loc ='upper right', prop={'size':8})\n",
    "axes_range = [0, np.max(import_data['V']), np.min(import_data['J']), np.max(import_data['J'])]\n",
    "ax3.axis(axes_range)\n",
    "ax3.plot(data2['V'], data2['J'], 'b-', lw=1)\n",
    "ax3b.plot(data2['V'], data2['d2J_dV2'], 'r-', lw=1)\n",
    "plt.title(r'Dark JV')\n",
    "ax3.set_ylabel('Current Density (mA/cm$^2$)')\n",
    "ax3b.set_ylabel('Current Density gradient(mA/V$^2$-cm$^2$)')\n",
    "ax3.set_xlabel('Bias (V)', color = 'r')\n",
    "plt.show()"
   ]
  },
  {
   "cell_type": "code",
   "execution_count": null,
   "metadata": {},
   "outputs": [],
   "source": [
    "np.argmax(data2['d2J_dV2'])"
   ]
  },
  {
   "cell_type": "code",
   "execution_count": null,
   "metadata": {},
   "outputs": [],
   "source": [
    "data2.idxmax()['d2J_dV2']"
   ]
  },
  {
   "cell_type": "code",
   "execution_count": null,
   "metadata": {},
   "outputs": [],
   "source": [
    "Vturn_on = data2['V'][data2.idxmax()['d2J_dV2']]\n",
    "round(Vturn_on,3)"
   ]
  },
  {
   "cell_type": "code",
   "execution_count": null,
   "metadata": {},
   "outputs": [],
   "source": [
    "fig4, (ax4_1, ax4_2) = plt.subplots(figsize = (12,4), nrows=1, ncols=2, sharex = True)\n",
    "ax4_1b = ax4_1.twinx()\n",
    "ax4_2b = ax4_2.twinx()\n",
    "\n",
    "axes_range = [np.min(import_data['V']), np.max(import_data['V']), np.min(import_data['J']), np.max(import_data['J'])]\n",
    "ax4_1.axis(axes_range)\n",
    "ax4_2.axis(axes_range)\n",
    "\n",
    "ax4_1.plot(data2['V'], data2['J'], 'b-', lw=1)\n",
    "ax4_1b.semilogy(data2['V'], data2['dJ_dV'], 'r-', lw=1, label = '1st Derivative')\n",
    "ax4_1b.legend(loc = (0.02,0.9), prop={'size':10})\n",
    "\n",
    "ax4_2.plot(data2['V'], data2['J'], 'b-', lw=1)\n",
    "ax4_2b.plot(data2['V'], data2['d2J_dV2'], 'g-', lw=1, label = '2nd Derivative')\n",
    "ax4_2b.legend(loc = (0.02,0.9), prop={'size':10})\n",
    "ax4_2b.text(0.9*np.min(import_data['V']), 0.8*np.max(data2['d2J_dV2']),\n",
    "            r'V$_{Turn-on}$ = %0.2f V' %Vturn_on, fontsize=12)\n",
    "\n",
    "ax4_1.set_ylabel('Current Density (mA/cm$^2$)', fontsize = 12)\n",
    "ax4_1b.set_ylabel('dJ/dV (mS/cm$^2$)', fontsize = 12)\n",
    "\n",
    "ax4_2.set_ylabel('Current Density (mA/cm$^2$)', fontsize = 12)\n",
    "ax4_2b.set_ylabel('d$^2$J/dV$^2$ (mA/V$^2$-cm$^2$)', fontsize = 12)\n",
    "\n",
    "ax4_1.set_xlabel('Bias (V)', color = 'r', fontsize = 12)\n",
    "ax4_2.set_xlabel('Bias (V)', color = 'r', fontsize = 12)\n",
    "\n",
    "#ax4.set_title('1st Derivative')\n",
    "#ax5.set_title('2nd Derivative')\n",
    "\n",
    "fig4.suptitle('DC Characterization of Dark JV', x = 0.5, y = 1.05, fontsize = 12)\n",
    "\n",
    "fig4.tight_layout()\n",
    "plt.show()"
   ]
  },
  {
   "cell_type": "code",
   "execution_count": null,
   "metadata": {},
   "outputs": [],
   "source": [
    "fig1.get_size_inches()"
   ]
  },
  {
   "cell_type": "code",
   "execution_count": null,
   "metadata": {},
   "outputs": [],
   "source": [
    "data2['beta'] = data2['d2J_dV2']/(2*data2['dJ_dV'])"
   ]
  },
  {
   "cell_type": "code",
   "execution_count": null,
   "metadata": {},
   "outputs": [],
   "source": [
    "fig5, ([ax5_1, ax5_2], [ax5_3, ax5_4]) = plt.subplots(figsize = (12,8), nrows=2, ncols=2)\n",
    "\n",
    "ax5_1b = ax5_1.twinx()\n",
    "ax5_2b = ax5_2.twinx()\n",
    "ax5_3b = ax5_3.twinx()\n",
    "ax5_4b = ax5_4.twinx()\n",
    "\n",
    "axes_range = [np.min(import_data['V']), np.max(import_data['V']), np.min(import_data['J']), np.max(import_data['J'])]\n",
    "ax5_1.axis(axes_range)\n",
    "ax5_2.axis(axes_range)\n",
    "ax5_3.axis(axes_range)\n",
    "ax5_4.axis(axes_range)\n",
    "\n",
    "ax5_1.plot(data2['V'], data2['J'], 'b-', lw=1)\n",
    "ax5_1b.plot(data2['V'], data2['dJ_dV'], 'r-', lw=1, label = '1st Derivative')\n",
    "ax5_1b.legend(loc = (0.02,0.9), prop={'size':10})\n",
    "\n",
    "ax5_2.plot(data2['V'], data2['J'], 'b-', lw=1)\n",
    "ax5_2b.plot(data2['V'], data2['d2J_dV2'], 'g-', lw=1, label = '2nd Derivative')\n",
    "ax5_2b.legend(loc = (0.02,0.9), prop={'size':10})\n",
    "ax5_2b.text(0.9*np.min(import_data['V']), 0.8*np.max(data2['d2J_dV2']),\n",
    "            r'V$_{Turn-on}$ = %0.2f V' %Vturn_on, fontsize=12)\n",
    "\n",
    "ax5_3.plot(data2['V'], data2['J'], 'b-', lw=1)\n",
    "ax5_3b.plot(data2['V'], 1/data2['dJ_dV'], 'r-', lw=1)\n",
    "\n",
    "ax5_4.plot(data2['V'], data2['J'], 'b-', lw=1)\n",
    "ax5_4b.plot(data2['V'], data2['beta'], 'g-', lw=1, label = 'Intrinsic Current \\n Responsivity')\n",
    "ax5_4b.legend(loc = (0.02,0.8), prop={'size':10})\n",
    "\n",
    "ax5_1.set_ylabel('Current Density (mA/cm$^2$)', fontsize = 12)\n",
    "ax5_1b.set_ylabel('dJ/dV (mS/cm$^2$)', fontsize = 12)\n",
    "\n",
    "ax5_2.set_ylabel('Current Density (mA/cm$^2$)', fontsize = 12)\n",
    "ax5_2b.set_ylabel('d$^2$J/dV$^2$ (mA/V$^2$-cm$^2$)', fontsize = 12)\n",
    "\n",
    "ax5_3.set_ylabel('Current Density (mA/cm$^2$)', fontsize = 12)\n",
    "ax5_3b.set_ylabel('Differential Resistance ($\\Omega$)', fontsize = 12)\n",
    "\n",
    "ax5_4.set_ylabel('Current Density (mA/cm$^2$)', fontsize = 12)\n",
    "ax5_4b.set_ylabel('Responsitivity(A/W)', fontsize = 12)\n",
    "\n",
    "ax5_1.set_xlabel('Bias (V)', color = 'r', fontsize = 12)\n",
    "ax5_2.set_xlabel('Bias (V)', color = 'r', fontsize = 12)\n",
    "ax5_3.set_xlabel('Bias (V)', color = 'r', fontsize = 12)\n",
    "ax5_4.set_xlabel('Bias (V)', color = 'r', fontsize = 12)\n",
    "\n",
    "#ax4.set_title('1st Derivative')\n",
    "#ax5.set_title('2nd Derivative')\n",
    "\n",
    "fig5.suptitle('DC Characterization', x = 0.5, y = 1.05, fontsize = 12)\n",
    "\n",
    "fig5.tight_layout()\n",
    "plt.show()"
   ]
  },
  {
   "cell_type": "markdown",
   "metadata": {},
   "source": [
    "## Plotting only under Forward Voltage"
   ]
  },
  {
   "cell_type": "code",
   "execution_count": null,
   "metadata": {},
   "outputs": [],
   "source": [
    " np.max(np.log(np.abs(import_data['J'])))"
   ]
  },
  {
   "cell_type": "code",
   "execution_count": null,
   "metadata": {},
   "outputs": [],
   "source": [
    "fig6, ([ax6_1, ax6_2], [ax6_3, ax6_4]) = plt.subplots(figsize = (12,8), nrows=2, ncols=2)\n",
    "fig6.set_dpi(200)\n",
    "\n",
    "ax6_1b = ax6_1.twinx()\n",
    "ax6_2b = ax6_2.twinx()\n",
    "ax6_3b = ax6_3.twinx()\n",
    "ax6_4b = ax6_4.twinx()\n",
    "\n",
    "axes_range = [0, np.max(import_data['V']), np.min(np.abs(import_data['J'])), np.max(np.abs(import_data['J']))]\n",
    "\n",
    "#ax6_2b.axis(axes_range)\n",
    "#ax6_3b.axis(axes_range)\n",
    "#ax6_4b.axis(axes_range)\n",
    "\n",
    "#ax6_4b.set_ylim(0,np.max(data2['beta'][data2.loc[data2['V'] == 0.0].index[0]:data2['V'].idxmax()])*1.5)\n",
    "\n",
    "ax6_1.semilogy(data2['V'], data2['J'], 'b-', lw=1)\n",
    "ax6_1.axis([0, np.max(data2['V']), np.min(np.abs(data2['J'])), np.max(np.abs(data2['J']))])\n",
    "ax6_1b.semilogy(data2['V'], data2['dJ_dV'], 'r-', lw=1)\n",
    "ax6_1b.axis([0, np.max(data2['V']), np.min(np.abs(data2['dJ_dV'])), np.max(np.abs(data2['dJ_dV']))])\n",
    "#ax6_1b.legend(loc = (0.02,0.9), prop={'size':10})\n",
    "\n",
    "ax6_2.plot(data2['V'], data2['J'], 'b-', lw=1)\n",
    "ax6_2.axis([0, np.max(data2['V']), np.min(np.abs(data2['J'])), np.max(np.abs(data2['J']))])\n",
    "ax6_2b.plot(data2['V'], data2['d2J_dV2'], 'g-', lw=1)\n",
    "#ax6_2b.legend(loc = (0.02,0.9), prop={'size':10})\n",
    "ax6_2b.text(np.max(import_data['V'])*0.5, 0.5*np.max(data2['d2J_dV2']),\n",
    "            r'V$_{Turn-on}$ = %0.2f V' %Vturn_on, fontsize=12)\n",
    "\n",
    "ax6_3.semilogy(data2['V'], data2['J'], 'b-', lw=1)\n",
    "ax6_3.axis([0, np.max(data2['V']), np.min(np.abs(data2['J'])), np.max(np.abs(data2['J']))])\n",
    "ax6_3b.plot(data2['V'], 1/data2['dJ_dV'], 'r-', lw=1)\n",
    "\n",
    "ax6_4.semilogy(data2['V'], data2['J'], 'b-', lw=1)\n",
    "ax6_4.axis([0, np.max(data2['V']), np.min(np.abs(data2['J'])), np.max(np.abs(data2['J']))])\n",
    "ax6_4b.plot(data2['V'], data2['beta'], 'g-', lw=1)\n",
    "#ax6_4b.legend(loc = 'best', prop={'size':10})\n",
    "\n",
    "ax6_1.set_ylabel('Current Density (mA/cm$^2$)', fontsize = 12)\n",
    "ax6_1b.set_ylabel('dJ/dV (mS/cm$^2$)', fontsize = 12)\n",
    "\n",
    "ax6_2.set_ylabel('Current Density (mA/cm$^2$)', fontsize = 12)\n",
    "ax6_2b.set_ylabel('d$^2$J/dV$^2$ (mA/V$^2$-cm$^2$)', fontsize = 12)\n",
    "\n",
    "ax6_3.set_ylabel('Current Density (mA/cm$^2$)', fontsize = 12)\n",
    "ax6_3b.set_ylabel(r'Differential Resistance (k$\\Omega$-cm$^2$)', fontsize = 12)\n",
    "\n",
    "ax6_4.set_ylabel('Current Density (mA/cm$^2$)', fontsize = 12)\n",
    "ax6_4b.set_ylabel('Responsitivity(A/W)', fontsize = 12)\n",
    "\n",
    "ax6_1.set_xlabel('Bias (V)', color = 'r', fontsize = 12)\n",
    "ax6_2.set_xlabel('Bias (V)', color = 'r', fontsize = 12)\n",
    "ax6_3.set_xlabel('Bias (V)', color = 'r', fontsize = 12)\n",
    "ax6_4.set_xlabel('Bias (V)', color = 'r', fontsize = 12)\n",
    "\n",
    "ax6_1.set_title('1st Derivative', fontsize = 12)\n",
    "ax6_2.set_title('2nd Derivative', fontsize = 12)\n",
    "ax6_3.set_title('Differential Resistance', fontsize = 12)\n",
    "ax6_4.set_title('Intrinsic Current '+ r'Responsivity $\\beta$$_o$', fontsize = 12)\n",
    "\n",
    "fig6.suptitle('Forward Bias (Dark) characterization of %s' %sample_name,\n",
    "              x = 0.5, y = 0.95, fontsize = 13)\n",
    "\n",
    "fig6.tight_layout()\n",
    "fig6.subplots_adjust(top=0.88)\n",
    "\n",
    "fig6.savefig(file_name + '_FB.png', format = 'png', dpi = 'figure')\n",
    "\n",
    "plt.show()"
   ]
  },
  {
   "cell_type": "code",
   "execution_count": null,
   "metadata": {},
   "outputs": [],
   "source": []
  },
  {
   "cell_type": "code",
   "execution_count": null,
   "metadata": {},
   "outputs": [],
   "source": []
  }
 ],
 "metadata": {
  "kernelspec": {
   "display_name": "Python [conda env:anaconda3]",
   "language": "python",
   "name": "conda-env-anaconda3-py"
  },
  "language_info": {
   "codemirror_mode": {
    "name": "ipython",
    "version": 3
   },
   "file_extension": ".py",
   "mimetype": "text/x-python",
   "name": "python",
   "nbconvert_exporter": "python",
   "pygments_lexer": "ipython3",
   "version": "3.5.6"
  },
  "widgets": {
   "state": {},
   "version": "1.1.2"
  }
 },
 "nbformat": 4,
 "nbformat_minor": 1
}
